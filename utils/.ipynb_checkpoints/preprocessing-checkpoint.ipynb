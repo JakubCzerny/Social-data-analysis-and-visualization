{
 "cells": [
  {
   "cell_type": "code",
   "execution_count": 1,
   "metadata": {
    "collapsed": false
   },
   "outputs": [
    {
     "name": "stdout",
     "output_type": "stream",
     "text": [
      "Data has been loaded.\n"
     ]
    }
   ],
   "source": [
    "from csv import reader\n",
    "import numpy as np\n",
    "import json\n",
    "\n",
    "i = 0;\n",
    "data = {}\n",
    "with open('../data/SFPD_Incidents_-_from_1_January_2003.csv', 'rb') as csvfile:\n",
    "    for line in reader(csvfile, delimiter=','):\n",
    "        if(i==0):\n",
    "            IncidntNum,Category,Descript,DayOfWeek,Date,Time,PdDistrict,Resolution,Address,X,Y,Location,PdId = line\n",
    "            header = {\"IncidntNum\": IncidntNum, \"Category\":Category, \"PdDistrict\":PdDistrict, \"DayOfWeek\":DayOfWeek, \"Time\":Time, \"Date\":Date, \"Address\":Address,\"X\":X,\"Y\":Y}\n",
    "        else:\n",
    "            IncidntNum,Category,Descript,DayOfWeek,Date,Time,PdDistrict,Resolution,Address,X,Y,Location,PdId = line\n",
    "            data[IncidntNum] = {\"Category\":Category, \"PdDistrict\":PdDistrict, \"DayOfWeek\":DayOfWeek, \"Time\":Time, \"Date\":Date, \"Address\":Address,\"X\":X,\"Y\":Y}\n",
    "        i+=1\n",
    "\n",
    "print \"Data has been loaded.\" \n"
   ]
  },
  {
   "cell_type": "code",
   "execution_count": 5,
   "metadata": {
    "collapsed": false
   },
   "outputs": [],
   "source": [
    "crime_counter_prostitution_2003 = {}\n",
    "crime_counter_theft_2003 = {}\n",
    "\n",
    "crime_counter_prostitution_2015 = {}\n",
    "crime_counter_theft_2015 = {}\n",
    "\n",
    "for crime in data.values():\n",
    "    year = int(crime[\"Date\"].split(\"/\")[-1])\n",
    "    \n",
    "    if year == 2003:\n",
    "        if crime[\"Category\"] == \"PROSTITUTION\":\n",
    "            if crime['PdDistrict'] in crime_counter_prostitution_2003:\n",
    "                crime_counter_prostitution_2003[crime['PdDistrict']] += 1\n",
    "            else:\n",
    "                crime_counter_prostitution_2003[crime['PdDistrict']] = 0\n",
    "\n",
    "        if crime[\"Category\"] == \"VEHICLE THEFT\":\n",
    "            if crime['PdDistrict'] in crime_counter_theft_2003:\n",
    "                crime_counter_theft_2003[crime['PdDistrict']] += 1\n",
    "            else:\n",
    "                crime_counter_theft_2003[crime['PdDistrict']] = 0\n",
    "    \n",
    "    elif year == 2015:\n",
    "        if crime[\"Category\"] == \"PROSTITUTION\":\n",
    "            if crime['PdDistrict'] in crime_counter_prostitution_2015:\n",
    "                crime_counter_prostitution_2015[crime['PdDistrict']] += 1\n",
    "            else:\n",
    "                crime_counter_prostitution_2015[crime['PdDistrict']] = 0\n",
    "\n",
    "        if crime[\"Category\"] == \"VEHICLE THEFT\":\n",
    "            if crime['PdDistrict'] in crime_counter_theft_2015:\n",
    "                crime_counter_theft_2015[crime['PdDistrict']] += 1\n",
    "            else:\n",
    "                crime_counter_theft_2015[crime['PdDistrict']] = 0"
   ]
  },
  {
   "cell_type": "code",
   "execution_count": 6,
   "metadata": {
    "collapsed": false
   },
   "outputs": [
    {
     "name": "stdout",
     "output_type": "stream",
     "text": [
      "Data has been saved\n"
     ]
    }
   ],
   "source": [
    "dictionary_2003 = {}\n",
    "for key, vals in crime_counter_prostitution_2003.iteritems():\n",
    "    dictionary_2003[key] = [crime_counter_prostitution_2003[key], crime_counter_theft_2003[key]]\n",
    "    \n",
    "dictionary_2015 = {}\n",
    "for key, vals in crime_counter_prostitution_2015.iteritems():\n",
    "    dictionary_2015[key] = [crime_counter_prostitution_2015[key], crime_counter_theft_2015[key]]    \n",
    "    \n",
    "with open('data_2003.json', 'w') as outfile:\n",
    "    json.dump(dictionary_2003, outfile)\n",
    "          \n",
    "with open('data_2015.json', 'w') as outfile:\n",
    "    json.dump(dictionary_2015, outfile)          \n",
    " \n",
    "print \"Data has been saved\""
   ]
  }
 ],
 "metadata": {
  "anaconda-cloud": {},
  "kernelspec": {
   "display_name": "Python 2",
   "language": "python",
   "name": "python2"
  },
  "language_info": {
   "codemirror_mode": {
    "name": "ipython",
    "version": 2
   },
   "file_extension": ".py",
   "mimetype": "text/x-python",
   "name": "python",
   "nbconvert_exporter": "python",
   "pygments_lexer": "ipython2",
   "version": "2.7.11"
  }
 },
 "nbformat": 4,
 "nbformat_minor": 0
}
